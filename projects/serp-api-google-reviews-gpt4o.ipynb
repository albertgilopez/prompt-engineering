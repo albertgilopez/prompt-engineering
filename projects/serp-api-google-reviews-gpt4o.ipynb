{
 "cells": [
  {
   "cell_type": "markdown",
   "metadata": {},
   "source": [
    "# Análisis de Sentimiento de Google Reviews con SerpAPI y GPT-4o de OpenAI\n",
    "\n",
    "Este notebook demuestra cómo extraer y analizar opiniones de Google utilizando SerpAPI y luego analizar el sentimiento de esas opiniones utilizando modelos de lenguaje de OpenAI.\n",
    "\n",
    "- AUTHOR: Albert Gil López\n",
    "- LINKEDIN: https://www.linkedin.com/in/albertgilopez/\n",
    "- GITHUB: https://github.com/albertgilopez\n"
   ]
  },
  {
   "cell_type": "code",
   "execution_count": 3,
   "metadata": {},
   "outputs": [],
   "source": [
    "# Instalación de librerías necesarias\n",
    "\n",
    "!pip install pandas\n",
    "!pip install serpapi\n",
    "!pip install openai"
   ]
  },
  {
   "cell_type": "code",
   "execution_count": 4,
   "metadata": {},
   "outputs": [],
   "source": [
    "# Importación de librerías\n",
    "\n",
    "import pandas as pd\n",
    "from serpapi import GoogleSearch\n",
    "import openai"
   ]
  },
  {
   "cell_type": "code",
   "execution_count": null,
   "metadata": {},
   "outputs": [],
   "source": [
    "# Configuración de claves API\n",
    "\n",
    "SERPAPI_KEY = 'your_serpapi_key_here'  # Reemplazar con tu clave API de SerpAPI\n",
    "OPENAI_API_KEY = 'your_openai_key_here'  # Reemplazar con tu clave API de OpenAI\n"
   ]
  },
  {
   "cell_type": "markdown",
   "metadata": {},
   "source": [
    "## Extracción de Datos de Google Maps\n",
    "Utilizamos SerpAPI para buscar lugares y extraer opiniones. Asegúrate de utilizar lugares y términos de búsqueda genéricos para evitar exponer datos sensibles.\n"
   ]
  },
  {
   "cell_type": "code",
   "execution_count": null,
   "metadata": {},
   "outputs": [],
   "source": [
    "# Definición de parámetros para la búsqueda en Google Maps\n",
    "search_params = {\n",
    "    \"engine\": \"google_maps\",\n",
    "    \"q\": \"nombre_del_negocio ubicación_general\",  # Ejemplo: \"Pizzería Barcelona\"\n",
    "    \"type\": \"search\",\n",
    "    \"api_key\": SERPAPI_KEY\n",
    "}\n",
    "\n",
    "search = GoogleSearch(search_params)\n",
    "results = search.get_dict()\n",
    "place_id = results['place_id']  # Asumiendo que la búsqueda devuelve un ID de lugar"
   ]
  },
  {
   "cell_type": "code",
   "execution_count": 63,
   "metadata": {},
   "outputs": [],
   "source": [
    "# Para acceder a las reviews, dentro de la API de Google Maps hay que acceder a Reviews API\n",
    "# https://serpapi.com/google-maps-reviews-api\n",
    "\n",
    "# Extracción de opiniones usando el ID del lugar\n",
    "reviews_params = {\n",
    "    \"engine\": \"google_maps_reviews\",\n",
    "    \"place_id\": place_id,\n",
    "    \"api_key\": SERPAPI_KEY\n",
    "}\n",
    "\n",
    "reviews_search = GoogleSearch(reviews_params)\n",
    "reviews_results = reviews_search.get_dict()"
   ]
  },
  {
   "cell_type": "markdown",
   "metadata": {},
   "source": [
    "## Análisis de Sentimientos con OpenAI\n",
    "Usando los modelos de lenguaje de OpenAI, analizamos el sentimiento de cada opinión obtenida.\n"
   ]
  },
  {
   "cell_type": "code",
   "execution_count": 77,
   "metadata": {},
   "outputs": [],
   "source": [
    "# # Utilizando un enfoque de prompting, llamando a la API de OpenAI\n",
    "# !pip install openai"
   ]
  },
  {
   "cell_type": "code",
   "execution_count": 76,
   "metadata": {},
   "outputs": [],
   "source": [
    "# Configuración del cliente de OpenAI\n",
    "from openai import OpenAI\n",
    "\n",
    "client = OpenAI(api_key=OPENAI_API_KEY)\n",
    "\n",
    "def analyze_review_sentiment(review_text):\n",
    "    response = client.chat.completions.create(\n",
    "        model=\"gpt-4o\",\n",
    "        messages=[\n",
    "            {\"role\": \"system\", \"content\": \"You are a virtual assistant expert in classifying opinions as positive or negative. Please limit your response to 'NEUTRAL', 'POSITIVO', 'MUY POSITIVO', NEGATIVO', 'MUY NEGATIVO'\"},\n",
    "            {\"role\": \"user\", \"content\": f\"{review_text}\"}\n",
    "        ]\n",
    "    )\n",
    "    return response.choices[0].message.content"
   ]
  },
  {
   "cell_type": "code",
   "execution_count": null,
   "metadata": {},
   "outputs": [],
   "source": [
    "# Análisis de sentimientos de las opiniones\n",
    "review_texts = [review['text'] for review in reviews_results['reviews']]\n",
    "sentiments = [analyze_review_sentiment(text) for text in review_texts]"
   ]
  },
  {
   "cell_type": "code",
   "execution_count": null,
   "metadata": {},
   "outputs": [],
   "source": [
    "# Creación de un DataFrame con los resultados\n",
    "reviews_df = pd.DataFrame({\n",
    "    'Review': review_texts,\n",
    "    'Sentiment': sentiments\n",
    "})"
   ]
  },
  {
   "cell_type": "markdown",
   "metadata": {},
   "source": [
    "## Guardar y Visualizar Resultados\n",
    "Guardamos los resultados en un archivo CSV y visualizamos algunos ejemplos.\n"
   ]
  },
  {
   "cell_type": "code",
   "execution_count": null,
   "metadata": {},
   "outputs": [],
   "source": [
    "# Guardar los resultados en un archivo CSV\n",
    "reviews_df.to_csv('reviews_sentiments.csv', index=False)\n",
    "print(reviews_df.head(10))"
   ]
  },
  {
   "cell_type": "markdown",
   "metadata": {},
   "source": [
    "Este notebook proporciona una plantilla básica para extraer y analizar opiniones de Google usando SerpAPI y OpenAI."
   ]
  }
 ],
 "metadata": {
  "kernelspec": {
   "display_name": "la-tremenda",
   "language": "python",
   "name": "python3"
  },
  "language_info": {
   "codemirror_mode": {
    "name": "ipython",
    "version": 3
   },
   "file_extension": ".py",
   "mimetype": "text/x-python",
   "name": "python",
   "nbconvert_exporter": "python",
   "pygments_lexer": "ipython3",
   "version": "3.7.12"
  }
 },
 "nbformat": 4,
 "nbformat_minor": 2
}
