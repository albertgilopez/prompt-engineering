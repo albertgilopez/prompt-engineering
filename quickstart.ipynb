{
 "cells": [
  {
   "cell_type": "code",
   "execution_count": 2,
   "metadata": {},
   "outputs": [
    {
     "name": "stdout",
     "output_type": "stream",
     "text": [
      "Requirement already satisfied: openai in c:\\users\\usuario\\miniconda3\\envs\\openai\\lib\\site-packages (1.6.1)\n",
      "Requirement already satisfied: anyio<5,>=3.5.0 in c:\\users\\usuario\\miniconda3\\envs\\openai\\lib\\site-packages (from openai) (4.2.0)\n",
      "Requirement already satisfied: distro<2,>=1.7.0 in c:\\users\\usuario\\miniconda3\\envs\\openai\\lib\\site-packages (from openai) (1.9.0)\n",
      "Requirement already satisfied: httpx<1,>=0.23.0 in c:\\users\\usuario\\miniconda3\\envs\\openai\\lib\\site-packages (from openai) (0.26.0)\n",
      "Requirement already satisfied: pydantic<3,>=1.9.0 in c:\\users\\usuario\\miniconda3\\envs\\openai\\lib\\site-packages (from openai) (2.5.3)\n",
      "Requirement already satisfied: sniffio in c:\\users\\usuario\\miniconda3\\envs\\openai\\lib\\site-packages (from openai) (1.3.0)\n",
      "Requirement already satisfied: tqdm>4 in c:\\users\\usuario\\miniconda3\\envs\\openai\\lib\\site-packages (from openai) (4.66.1)\n",
      "Requirement already satisfied: typing-extensions<5,>=4.7 in c:\\users\\usuario\\miniconda3\\envs\\openai\\lib\\site-packages (from openai) (4.9.0)\n",
      "Requirement already satisfied: idna>=2.8 in c:\\users\\usuario\\miniconda3\\envs\\openai\\lib\\site-packages (from anyio<5,>=3.5.0->openai) (3.6)\n",
      "Requirement already satisfied: certifi in c:\\users\\usuario\\miniconda3\\envs\\openai\\lib\\site-packages (from httpx<1,>=0.23.0->openai) (2023.11.17)\n",
      "Requirement already satisfied: httpcore==1.* in c:\\users\\usuario\\miniconda3\\envs\\openai\\lib\\site-packages (from httpx<1,>=0.23.0->openai) (1.0.2)\n",
      "Requirement already satisfied: h11<0.15,>=0.13 in c:\\users\\usuario\\miniconda3\\envs\\openai\\lib\\site-packages (from httpcore==1.*->httpx<1,>=0.23.0->openai) (0.14.0)\n",
      "Requirement already satisfied: annotated-types>=0.4.0 in c:\\users\\usuario\\miniconda3\\envs\\openai\\lib\\site-packages (from pydantic<3,>=1.9.0->openai) (0.6.0)\n",
      "Requirement already satisfied: pydantic-core==2.14.6 in c:\\users\\usuario\\miniconda3\\envs\\openai\\lib\\site-packages (from pydantic<3,>=1.9.0->openai) (2.14.6)\n",
      "Requirement already satisfied: colorama in c:\\users\\usuario\\miniconda3\\envs\\openai\\lib\\site-packages (from tqdm>4->openai) (0.4.6)\n",
      "Collecting python-dotenv\n",
      "  Using cached python_dotenv-1.0.0-py3-none-any.whl (19 kB)\n",
      "Installing collected packages: python-dotenv\n",
      "Successfully installed python-dotenv-1.0.0\n"
     ]
    }
   ],
   "source": [
    "# !pip install openai\n",
    "# !pip install python-dotenv"
   ]
  },
  {
   "cell_type": "code",
   "execution_count": 3,
   "metadata": {},
   "outputs": [
    {
     "data": {
      "text/plain": [
       "True"
      ]
     },
     "execution_count": 3,
     "metadata": {},
     "output_type": "execute_result"
    }
   ],
   "source": [
    "from dotenv import load_dotenv\n",
    "load_dotenv()"
   ]
  },
  {
   "cell_type": "code",
   "execution_count": 6,
   "metadata": {},
   "outputs": [
    {
     "data": {
      "text/plain": [
       "<openai.OpenAI at 0x13587259cd0>"
      ]
     },
     "execution_count": 6,
     "metadata": {},
     "output_type": "execute_result"
    }
   ],
   "source": [
    "from openai import OpenAI\n",
    "\n",
    "client = OpenAI()\n",
    "\n",
    "client"
   ]
  },
  {
   "cell_type": "code",
   "execution_count": 11,
   "metadata": {},
   "outputs": [
    {
     "name": "stdout",
     "output_type": "stream",
     "text": [
      "ChatCompletionMessage(content=\"In the realm of code, a tale shall unfold,\\nOf a concept named recursion, brave and bold.\\nA poetic dance, where function calls its own song,\\nUnraveling mysteries, where echoes belong.\\n\\nLike a mirror reflecting, endlessly repeating,\\nRecursion dives deep, the code's heart it's meeting.\\nA magician, it weaves, with an enchanting spell,\\nSolving problems grand, like secret stories to tell.\\n\\nImagine a world where fractals collide,\\nEndless patterns emerge, where wonders reside.\\nWith each nested call, a story restarts,\\nUnveiling the secrets, hidden in the code's arts.\\n\\nWith elegance it dances, in a loop of its own,\\nCalling itself recursively, never alone.\\nLike ripples in water, it cascades through the flow,\\nUnraveling the layers, as its magic continues to grow.\\n\\nA problem it grasps, then breaks it in twain,\\nDividing and conquering, its power reigns.\\nThrough iterations profound, it finds the solution,\\nBuilding upon itself, creating resolution.\\n\\nYet, caution is due, lest the cycles take flight,\\nWithout a base case, forever shining bright.\\nAn infinite labyrinth, with no end in sight,\\nRecursion must know when to bid farewell and alight.\\n\\nSo programmers, heed the lessons it imparts,\\nRecursion, a tool for the daring hearts.\\nWith logic and care, let this concept unfurl,\\nAnd with recursive grace, watch your programs unfurl.\", role='assistant', function_call=None, tool_calls=None)\n"
     ]
    }
   ],
   "source": [
    "from openai import OpenAI\n",
    "client = OpenAI()\n",
    "\n",
    "completion = client.chat.completions.create(\n",
    "  model=\"gpt-3.5-turbo\",\n",
    "  messages=[\n",
    "    {\"role\": \"system\", \"content\": \"You are a poetic assistant, skilled in explaining complex programming concepts with creative flair.\"},\n",
    "    {\"role\": \"user\", \"content\": \"Compose a poem that explains the concept of recursion in programming.\"}\n",
    "  ]\n",
    ")\n",
    "\n",
    "print(completion.choices[0].message)"
   ]
  },
  {
   "cell_type": "code",
   "execution_count": 12,
   "metadata": {},
   "outputs": [
    {
     "data": {
      "text/plain": [
       "ChatCompletion(id='chatcmpl-8eIpPpc3eaH5VaU3lkfdQRtoEX06E', choices=[Choice(finish_reason='stop', index=0, logprobs=None, message=ChatCompletionMessage(content=\"In the realm of code, a tale shall unfold,\\nOf a concept named recursion, brave and bold.\\nA poetic dance, where function calls its own song,\\nUnraveling mysteries, where echoes belong.\\n\\nLike a mirror reflecting, endlessly repeating,\\nRecursion dives deep, the code's heart it's meeting.\\nA magician, it weaves, with an enchanting spell,\\nSolving problems grand, like secret stories to tell.\\n\\nImagine a world where fractals collide,\\nEndless patterns emerge, where wonders reside.\\nWith each nested call, a story restarts,\\nUnveiling the secrets, hidden in the code's arts.\\n\\nWith elegance it dances, in a loop of its own,\\nCalling itself recursively, never alone.\\nLike ripples in water, it cascades through the flow,\\nUnraveling the layers, as its magic continues to grow.\\n\\nA problem it grasps, then breaks it in twain,\\nDividing and conquering, its power reigns.\\nThrough iterations profound, it finds the solution,\\nBuilding upon itself, creating resolution.\\n\\nYet, caution is due, lest the cycles take flight,\\nWithout a base case, forever shining bright.\\nAn infinite labyrinth, with no end in sight,\\nRecursion must know when to bid farewell and alight.\\n\\nSo programmers, heed the lessons it imparts,\\nRecursion, a tool for the daring hearts.\\nWith logic and care, let this concept unfurl,\\nAnd with recursive grace, watch your programs unfurl.\", role='assistant', function_call=None, tool_calls=None))], created=1704616187, model='gpt-3.5-turbo-0613', object='chat.completion', system_fingerprint=None, usage=CompletionUsage(completion_tokens=298, prompt_tokens=39, total_tokens=337))"
      ]
     },
     "execution_count": 12,
     "metadata": {},
     "output_type": "execute_result"
    }
   ],
   "source": [
    "completion"
   ]
  },
  {
   "cell_type": "code",
   "execution_count": 7,
   "metadata": {},
   "outputs": [
    {
     "name": "stdout",
     "output_type": "stream",
     "text": [
      "This is a test."
     ]
    }
   ],
   "source": [
    "stream = client.chat.completions.create(\n",
    "    model=\"gpt-4\",\n",
    "    messages=[{\"role\": \"user\", \"content\": \"Say this is a test\"}],\n",
    "    stream=True,\n",
    ")\n",
    "for chunk in stream:\n",
    "    if chunk.choices[0].delta.content is not None:\n",
    "        print(chunk.choices[0].delta.content, end=\"\")"
   ]
  },
  {
   "cell_type": "code",
   "execution_count": 9,
   "metadata": {},
   "outputs": [],
   "source": [
    "from pathlib import Path\n",
    "from openai import OpenAI\n",
    "client = OpenAI()\n",
    "\n",
    "speech_file_path = \"speech.mp3\"\n",
    "response = client.audio.speech.create(\n",
    "  model=\"tts-1\",\n",
    "  voice=\"alloy\",\n",
    "  input=\"Today is a wonderful day to build something people love!\"\n",
    ")\n",
    "\n",
    "response.stream_to_file(speech_file_path)"
   ]
  },
  {
   "cell_type": "code",
   "execution_count": 10,
   "metadata": {},
   "outputs": [
    {
     "name": "stdout",
     "output_type": "stream",
     "text": [
      "Choice(finish_reason='stop', index=0, logprobs=None, message=ChatCompletionMessage(content='This image shows a wooden boardwalk extending through a lush green meadow with tall grass on either side. The sky above is partly cloudy with visible blue patches and soft white clouds. The landscape suggests a natural, possibly wetland environment, where the boardwalk serves as a path for visitors to explore without disturbing the natural flora. The time of day appears to be either late afternoon or early evening, considering the soft lighting and the shadows, which also adds to the serene atmosphere of the scene. There are no visible structures or people in the image, emphasizing the natural tranquility of the setting.', role='assistant', function_call=None, tool_calls=None))\n"
     ]
    }
   ],
   "source": [
    "from openai import OpenAI\n",
    "\n",
    "client = OpenAI()\n",
    "\n",
    "response = client.chat.completions.create(\n",
    "  model=\"gpt-4-vision-preview\",\n",
    "  messages=[\n",
    "    {\n",
    "      \"role\": \"user\",\n",
    "      \"content\": [\n",
    "        {\"type\": \"text\", \"text\": \"What’s in this image?\"},\n",
    "        {\n",
    "          \"type\": \"image_url\",\n",
    "          \"image_url\": {\n",
    "            \"url\": \"https://upload.wikimedia.org/wikipedia/commons/thumb/d/dd/Gfp-wisconsin-madison-the-nature-boardwalk.jpg/2560px-Gfp-wisconsin-madison-the-nature-boardwalk.jpg\",\n",
    "          },\n",
    "        },\n",
    "      ],\n",
    "    }\n",
    "  ],\n",
    "  max_tokens=300,\n",
    ")\n",
    "\n",
    "print(response.choices[0])"
   ]
  }
 ],
 "metadata": {
  "kernelspec": {
   "display_name": "openai",
   "language": "python",
   "name": "python3"
  },
  "language_info": {
   "codemirror_mode": {
    "name": "ipython",
    "version": 3
   },
   "file_extension": ".py",
   "mimetype": "text/x-python",
   "name": "python",
   "nbconvert_exporter": "python",
   "pygments_lexer": "ipython3",
   "version": "3.11.4"
  }
 },
 "nbformat": 4,
 "nbformat_minor": 2
}
