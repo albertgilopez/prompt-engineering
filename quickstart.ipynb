{
 "cells": [
  {
   "cell_type": "markdown",
   "metadata": {},
   "source": [
    "## Guía de Inicio Rápido para OpenAI API con Python\n",
    "\n",
    "Este notebook proporciona ejemplos de cómo usar la API de OpenAI en Python. \n",
    "\n",
    "Cubre varios aspectos como la generación de texto, streaming y la síntesis de voz:\n",
    "\n",
    "Requisitos:\n",
    "- Python 3.x\n",
    "- Bibliotecas: openai, python-dotenv\n",
    "\n",
    "Para instalar las dependencias, ejecuta:\n",
    "\n"
   ]
  },
  {
   "cell_type": "code",
   "execution_count": 2,
   "metadata": {},
   "outputs": [],
   "source": [
    "# !pip install openai\n",
    "# !pip install python-dotenv"
   ]
  },
  {
   "cell_type": "code",
   "execution_count": 3,
   "metadata": {},
   "outputs": [
    {
     "data": {
      "text/plain": [
       "True"
      ]
     },
     "execution_count": 3,
     "metadata": {},
     "output_type": "execute_result"
    }
   ],
   "source": [
    "from dotenv import load_dotenv\n",
    "load_dotenv()"
   ]
  },
  {
   "cell_type": "markdown",
   "metadata": {},
   "source": [
    "**Configuración** Crea un archivo .env en tu directorio con tu clave API de OpenAI:"
   ]
  },
  {
   "cell_type": "code",
   "execution_count": 4,
   "metadata": {},
   "outputs": [
    {
     "data": {
      "text/plain": [
       "<openai.OpenAI at 0x164268543d0>"
      ]
     },
     "execution_count": 4,
     "metadata": {},
     "output_type": "execute_result"
    }
   ],
   "source": [
    "from openai import OpenAI\n",
    "\n",
    "client = OpenAI()\n",
    "client"
   ]
  },
  {
   "cell_type": "markdown",
   "metadata": {},
   "source": [
    "Generación de texto basada en chat.completions https://platform.openai.com/docs/guides/text-generation/chat-completions-api"
   ]
  },
  {
   "cell_type": "code",
   "execution_count": 8,
   "metadata": {},
   "outputs": [
    {
     "name": "stdout",
     "output_type": "stream",
     "text": [
      "ChatCompletionMessage(content='In the realm where code unravels its threads,\\nA concept dances with endless threads,\\nRecursion, the weaver of grand design,\\nUnfolding mysteries, a gift divine.\\n\\nLike a mirror reflecting its own reflection,\\nA function calls itself without hesitation,\\nAscending deep through the labyrinth of code,\\nWhere loops yearn to tread the untrodden road.\\n\\nThrough a tale of layers, infinite and vast,\\nRecursion explores, its boundaries surpassed,\\nWith each step taken, a new path is formed,\\nAs possibilities bloom, untamed and warmed.\\n\\nAn elegant dance of mystical kin,\\nBuilding on echoes of compounding within,\\nLike branches of trees, reaching for the sky,\\nRecursion spreads its wings, ever so high.\\n\\nFrom fractals that spiral in beauty profound,\\nTo backtracking towers, towers tightly wound,\\nIn a recursive dream that code loves to share,\\nNew dimensions of logic and flair.\\n\\nYet amidst this enchantment, a warning must sound,\\nA balance is needed, lest chaos is found,\\nEndless loops lurking, a stack overrun,\\nRecursion, a tango, but not to be shunned.\\n\\nWith clarity and care, let your code unfurl,\\nProvide an escape, the breaking of the whirl,\\nBe the guide for functions seeking an end,\\nTo gracefully fade, their purpose descend.\\n\\nOh, recursion, a muse that programmers meet,\\nA dance with logic, elegant and sweet,\\nLet us embrace, thy patterns unfold,\\nIn this waltz of code, forever bold.', role='assistant', function_call=None, tool_calls=None)\n"
     ]
    }
   ],
   "source": [
    "from openai import OpenAI\n",
    "client = OpenAI()\n",
    "\n",
    "completion = client.chat.completions.create(\n",
    "  model=\"gpt-3.5-turbo\",\n",
    "  messages=[\n",
    "    {\"role\": \"system\", \"content\": \"You are a poetic assistant, skilled in explaining complex programming concepts with creative flair.\"},\n",
    "    {\"role\": \"user\", \"content\": \"Compose a poem that explains the concept of recursion in programming.\"}\n",
    "  ]\n",
    ")\n",
    "\n",
    "print(completion.choices[0].message) # esta es la respuesta del modelo"
   ]
  },
  {
   "cell_type": "code",
   "execution_count": 12,
   "metadata": {},
   "outputs": [
    {
     "data": {
      "text/plain": [
       "ChatCompletion(id='chatcmpl-8eIpPpc3eaH5VaU3lkfdQRtoEX06E', choices=[Choice(finish_reason='stop', index=0, logprobs=None, message=ChatCompletionMessage(content=\"In the realm of code, a tale shall unfold,\\nOf a concept named recursion, brave and bold.\\nA poetic dance, where function calls its own song,\\nUnraveling mysteries, where echoes belong.\\n\\nLike a mirror reflecting, endlessly repeating,\\nRecursion dives deep, the code's heart it's meeting.\\nA magician, it weaves, with an enchanting spell,\\nSolving problems grand, like secret stories to tell.\\n\\nImagine a world where fractals collide,\\nEndless patterns emerge, where wonders reside.\\nWith each nested call, a story restarts,\\nUnveiling the secrets, hidden in the code's arts.\\n\\nWith elegance it dances, in a loop of its own,\\nCalling itself recursively, never alone.\\nLike ripples in water, it cascades through the flow,\\nUnraveling the layers, as its magic continues to grow.\\n\\nA problem it grasps, then breaks it in twain,\\nDividing and conquering, its power reigns.\\nThrough iterations profound, it finds the solution,\\nBuilding upon itself, creating resolution.\\n\\nYet, caution is due, lest the cycles take flight,\\nWithout a base case, forever shining bright.\\nAn infinite labyrinth, with no end in sight,\\nRecursion must know when to bid farewell and alight.\\n\\nSo programmers, heed the lessons it imparts,\\nRecursion, a tool for the daring hearts.\\nWith logic and care, let this concept unfurl,\\nAnd with recursive grace, watch your programs unfurl.\", role='assistant', function_call=None, tool_calls=None))], created=1704616187, model='gpt-3.5-turbo-0613', object='chat.completion', system_fingerprint=None, usage=CompletionUsage(completion_tokens=298, prompt_tokens=39, total_tokens=337))"
      ]
     },
     "execution_count": 12,
     "metadata": {},
     "output_type": "execute_result"
    }
   ],
   "source": [
    "completion # aunque la respuesta tiene mucha más información"
   ]
  },
  {
   "cell_type": "code",
   "execution_count": 10,
   "metadata": {},
   "outputs": [
    {
     "name": "stdout",
     "output_type": "stream",
     "text": [
      "This is a test."
     ]
    }
   ],
   "source": [
    "# La capcidad de streaming es la manera en como nos va mostrando la respuesta palabra por palabra, como hace ChatGPT\n",
    "\n",
    "stream = client.chat.completions.create(\n",
    "    model=\"gpt-4\",\n",
    "    messages=[{\"role\": \"user\", \"content\": \"Say this is a test\"}],\n",
    "    stream=True,\n",
    ")\n",
    "for chunk in stream:\n",
    "    if chunk.choices[0].delta.content is not None:\n",
    "        print(chunk.choices[0].delta.content, end=\"\")"
   ]
  },
  {
   "cell_type": "markdown",
   "metadata": {},
   "source": [
    "Generación de audio basada en texto con audio.speech https://platform.openai.com/docs/guides/text-to-speech"
   ]
  },
  {
   "cell_type": "code",
   "execution_count": 14,
   "metadata": {},
   "outputs": [],
   "source": [
    "speech_file_path = \"speech.mp3\"\n",
    "response = client.audio.speech.create(\n",
    "  model=\"tts-1\",\n",
    "  voice=\"alloy\",\n",
    "  input=\"Today is a wonderful day to build something people love!\"\n",
    ")\n",
    "\n",
    "response.stream_to_file(speech_file_path)"
   ]
  },
  {
   "cell_type": "markdown",
   "metadata": {},
   "source": [
    "Interpretación de imágenes utilizando el modelo gpt-4-vision-preview https://platform.openai.com/docs/guides/vision"
   ]
  },
  {
   "cell_type": "code",
   "execution_count": 15,
   "metadata": {},
   "outputs": [
    {
     "name": "stdout",
     "output_type": "stream",
     "text": [
      "Choice(finish_reason='stop', index=0, logprobs=None, message=ChatCompletionMessage(content='This image features a wooden boardwalk path that cuts through a lush green field. The sky is partly cloudy with soft, white clouds, and the lighting suggests it might be late afternoon or early evening. The vegetation appears to be tall grass and some scattered bushes or small trees, indicating this might be a wetland or natural preserve. The path leads towards the horizon, offering a sense of peacefulness and a connection to nature.', role='assistant', function_call=None, tool_calls=None))\n"
     ]
    }
   ],
   "source": [
    "response = client.chat.completions.create(\n",
    "  model=\"gpt-4-vision-preview\",\n",
    "  messages=[\n",
    "    {\n",
    "      \"role\": \"user\",\n",
    "      \"content\": [\n",
    "        {\"type\": \"text\", \"text\": \"What’s in this image?\"},\n",
    "        {\n",
    "          \"type\": \"image_url\",\n",
    "          \"image_url\": {\n",
    "            \"url\": \"https://upload.wikimedia.org/wikipedia/commons/thumb/d/dd/Gfp-wisconsin-madison-the-nature-boardwalk.jpg/2560px-Gfp-wisconsin-madison-the-nature-boardwalk.jpg\",\n",
    "          },\n",
    "        },\n",
    "      ],\n",
    "    }\n",
    "  ],\n",
    "  max_tokens=300,\n",
    ")\n",
    "\n",
    "print(response.choices[0])"
   ]
  }
 ],
 "metadata": {
  "kernelspec": {
   "display_name": "openai",
   "language": "python",
   "name": "python3"
  },
  "language_info": {
   "codemirror_mode": {
    "name": "ipython",
    "version": 3
   },
   "file_extension": ".py",
   "mimetype": "text/x-python",
   "name": "python",
   "nbconvert_exporter": "python",
   "pygments_lexer": "ipython3",
   "version": "3.11.4"
  }
 },
 "nbformat": 4,
 "nbformat_minor": 2
}
